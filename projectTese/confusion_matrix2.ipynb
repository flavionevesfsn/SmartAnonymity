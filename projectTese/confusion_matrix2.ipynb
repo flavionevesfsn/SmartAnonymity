{
 "cells": [
  {
   "cell_type": "markdown",
   "metadata": {},
   "source": [
    "# Matriz de Confusão da base de dados com 121 DataSets"
   ]
  },
  {
   "cell_type": "code",
   "execution_count": 7,
   "metadata": {},
   "outputs": [],
   "source": [
    "import numpy as np\n",
    "import pandas as pd\n",
    "import seaborn as sns\n",
    "import matplotlib.pyplot as plt\n",
    "from matplotlib import style\n",
    "#style.use(\"fivethirtyeight\")\n",
    "\n",
    "from sklearn.model_selection import train_test_split, cross_val_score, GridSearchCV\n",
    "from sklearn.neighbors import KNeighborsClassifier\n",
    "from sklearn import metrics, svm\n",
    "import joblib\n",
    "\n",
    "from pretty_confusion_matrix import pp_matrix\n",
    "\n",
    "import warnings\n",
    "warnings.filterwarnings('ignore')"
   ]
  },
  {
   "cell_type": "code",
   "execution_count": 8,
   "metadata": {},
   "outputs": [
    {
     "data": {
      "text/html": [
       "<div>\n",
       "<style scoped>\n",
       "    .dataframe tbody tr th:only-of-type {\n",
       "        vertical-align: middle;\n",
       "    }\n",
       "\n",
       "    .dataframe tbody tr th {\n",
       "        vertical-align: top;\n",
       "    }\n",
       "\n",
       "    .dataframe thead th {\n",
       "        text-align: right;\n",
       "    }\n",
       "</style>\n",
       "<table border=\"1\" class=\"dataframe\">\n",
       "  <thead>\n",
       "    <tr style=\"text-align: right;\">\n",
       "      <th></th>\n",
       "      <th>y_true</th>\n",
       "      <th>y_pred</th>\n",
       "    </tr>\n",
       "  </thead>\n",
       "  <tbody>\n",
       "    <tr>\n",
       "      <th>0</th>\n",
       "      <td>SecurityPublic</td>\n",
       "      <td>SecurityPublic</td>\n",
       "    </tr>\n",
       "    <tr>\n",
       "      <th>1</th>\n",
       "      <td>SecurityPublic</td>\n",
       "      <td>SecurityPublic</td>\n",
       "    </tr>\n",
       "    <tr>\n",
       "      <th>2</th>\n",
       "      <td>SecurityPublic</td>\n",
       "      <td>SecurityPublic</td>\n",
       "    </tr>\n",
       "    <tr>\n",
       "      <th>3</th>\n",
       "      <td>SecurityPublic</td>\n",
       "      <td>SecurityPublic</td>\n",
       "    </tr>\n",
       "    <tr>\n",
       "      <th>4</th>\n",
       "      <td>SecurityPublic</td>\n",
       "      <td>SecurityPublic</td>\n",
       "    </tr>\n",
       "  </tbody>\n",
       "</table>\n",
       "</div>"
      ],
      "text/plain": [
       "           y_true          y_pred\n",
       "0  SecurityPublic  SecurityPublic\n",
       "1  SecurityPublic  SecurityPublic\n",
       "2  SecurityPublic  SecurityPublic\n",
       "3  SecurityPublic  SecurityPublic\n",
       "4  SecurityPublic  SecurityPublic"
      ]
     },
     "execution_count": 8,
     "metadata": {},
     "output_type": "execute_result"
    }
   ],
   "source": [
    "# Datasets\n",
    "\n",
    "dados_output = pd.read_csv(\"datasets/outputSummaryOutputData-matriz.csv\")\n",
    "dados_output.head()"
   ]
  },
  {
   "cell_type": "code",
   "execution_count": 9,
   "metadata": {},
   "outputs": [
    {
     "name": "stdout",
     "output_type": "stream",
     "text": [
      "Unexpected exception formatting exception. Falling back to standard exception\n"
     ]
    },
    {
     "name": "stderr",
     "output_type": "stream",
     "text": [
      "Traceback (most recent call last):\n",
      "  File \"c:\\Users\\Flavio\\Dropbox\\Doutorado\\DOUTORADO\\ATIVIDADES DOUTORADO\\TESE - FINAL\\Material Michel\\projectTese\\.tese\\lib\\site-packages\\IPython\\core\\interactiveshell.py\", line 3433, in run_code\n",
      "    exec(code_obj, self.user_global_ns, self.user_ns)\n",
      "  File \"C:\\Users\\Flavio\\AppData\\Local\\Temp\\ipykernel_16192\\1450190119.py\", line 1, in <module>\n",
      "    dados_output.IoTSubdomain.unique()\n",
      "  File \"c:\\Users\\Flavio\\Dropbox\\Doutorado\\DOUTORADO\\ATIVIDADES DOUTORADO\\TESE - FINAL\\Material Michel\\projectTese\\.tese\\lib\\site-packages\\pandas\\core\\generic.py\", line 5902, in __getattr__\n",
      "    return object.__getattribute__(self, name)\n",
      "AttributeError: 'DataFrame' object has no attribute 'IoTSubdomain'\n",
      "\n",
      "During handling of the above exception, another exception occurred:\n",
      "\n",
      "Traceback (most recent call last):\n",
      "  File \"c:\\Users\\Flavio\\Dropbox\\Doutorado\\DOUTORADO\\ATIVIDADES DOUTORADO\\TESE - FINAL\\Material Michel\\projectTese\\.tese\\lib\\site-packages\\IPython\\core\\interactiveshell.py\", line 2052, in showtraceback\n",
      "    stb = self.InteractiveTB.structured_traceback(\n",
      "  File \"c:\\Users\\Flavio\\Dropbox\\Doutorado\\DOUTORADO\\ATIVIDADES DOUTORADO\\TESE - FINAL\\Material Michel\\projectTese\\.tese\\lib\\site-packages\\IPython\\core\\ultratb.py\", line 1112, in structured_traceback\n",
      "    return FormattedTB.structured_traceback(\n",
      "  File \"c:\\Users\\Flavio\\Dropbox\\Doutorado\\DOUTORADO\\ATIVIDADES DOUTORADO\\TESE - FINAL\\Material Michel\\projectTese\\.tese\\lib\\site-packages\\IPython\\core\\ultratb.py\", line 1006, in structured_traceback\n",
      "    return VerboseTB.structured_traceback(\n",
      "  File \"c:\\Users\\Flavio\\Dropbox\\Doutorado\\DOUTORADO\\ATIVIDADES DOUTORADO\\TESE - FINAL\\Material Michel\\projectTese\\.tese\\lib\\site-packages\\IPython\\core\\ultratb.py\", line 859, in structured_traceback\n",
      "    formatted_exception = self.format_exception_as_a_whole(etype, evalue, etb, number_of_lines_of_context,\n",
      "  File \"c:\\Users\\Flavio\\Dropbox\\Doutorado\\DOUTORADO\\ATIVIDADES DOUTORADO\\TESE - FINAL\\Material Michel\\projectTese\\.tese\\lib\\site-packages\\IPython\\core\\ultratb.py\", line 793, in format_exception_as_a_whole\n",
      "    self.get_records(etb, number_of_lines_of_context, tb_offset) if etb else []\n",
      "  File \"c:\\Users\\Flavio\\Dropbox\\Doutorado\\DOUTORADO\\ATIVIDADES DOUTORADO\\TESE - FINAL\\Material Michel\\projectTese\\.tese\\lib\\site-packages\\IPython\\core\\ultratb.py\", line 839, in get_records\n",
      "    style = stack_data.style_with_executing_node(style, self._tb_highlight)\n",
      "  File \"c:\\Users\\Flavio\\Dropbox\\Doutorado\\DOUTORADO\\ATIVIDADES DOUTORADO\\TESE - FINAL\\Material Michel\\projectTese\\.tese\\lib\\site-packages\\stack_data\\core.py\", line 441, in style_with_executing_node\n",
      "    class NewStyle(style):\n",
      "  File \"c:\\Users\\Flavio\\Dropbox\\Doutorado\\DOUTORADO\\ATIVIDADES DOUTORADO\\TESE - FINAL\\Material Michel\\projectTese\\.tese\\lib\\site-packages\\pygments\\style.py\", line 91, in __new__\n",
      "    ndef[4] = colorformat(styledef[3:])\n",
      "  File \"c:\\Users\\Flavio\\Dropbox\\Doutorado\\DOUTORADO\\ATIVIDADES DOUTORADO\\TESE - FINAL\\Material Michel\\projectTese\\.tese\\lib\\site-packages\\pygments\\style.py\", line 58, in colorformat\n",
      "    assert False, \"wrong color format %r\" % text\n",
      "AssertionError: wrong color format 'ansiyellow'\n"
     ]
    }
   ],
   "source": [
    "dados_output.IoTSubdomain.unique()"
   ]
  }
 ],
 "metadata": {
  "kernelspec": {
   "display_name": ".tese",
   "language": "python",
   "name": "python3"
  },
  "language_info": {
   "codemirror_mode": {
    "name": "ipython",
    "version": 3
   },
   "file_extension": ".py",
   "mimetype": "text/x-python",
   "name": "python",
   "nbconvert_exporter": "python",
   "pygments_lexer": "ipython3",
   "version": "3.10.5"
  },
  "orig_nbformat": 4,
  "vscode": {
   "interpreter": {
    "hash": "53ed4234e9aef73e5546be688bd6dcd074b0939fe7e2458867f2dd396c621053"
   }
  }
 },
 "nbformat": 4,
 "nbformat_minor": 2
}
